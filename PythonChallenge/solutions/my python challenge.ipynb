{
 "cells": [
  {
   "cell_type": "code",
   "execution_count": 1,
   "metadata": {},
   "outputs": [
    {
     "name": "stdout",
     "output_type": "stream",
     "text": [
      "Hash: 3\n",
      "Decryption result: secretcode\n"
     ]
    }
   ],
   "source": [
    "## Level 0 \n",
    "## This code is encrypted from the movie in the picture. Find the hash value to to decrypt \"vhfuhwfrgh\" then use the url to get to the next level\n",
    "\n",
    "def encrypt(s1, hash):\n",
    "    s2 = map(lambda c : chr(ord(c) + hash), s1)\n",
    "    return ''.join(s2)\n",
    "\n",
    "\n",
    "def decrypt(s1, hash):\n",
    "    s2 = map(lambda c : chr(ord(c) - hash), s1)\n",
    "    return ''.join(s2)\n",
    "\n",
    "\n",
    "## Step1: How to find hash value\n",
    "for i in range(0,100):\n",
    "    #s2 = map(lambda c : chr(ord(c) - i), \"Wkh#Duulydo#ri#d#Wudlq\")\n",
    "    #if (''.join(s2) == \"The Arrival of a Train\"):\n",
    "    #    print(i)\n",
    "    if (encrypt(\"The Arrival of a Train\",i) == \"Wkh#Duulydo#ri#d#Wudlq\"):\n",
    "        print('Hash:', i)\n",
    "        ## Step 2: Decrypt code\n",
    "        print('Decryption result:',decrypt(\"vhfuhwfrgh\", 3))"
   ]
  },
  {
   "cell_type": "code",
   "execution_count": 2,
   "metadata": {},
   "outputs": [
    {
     "name": "stdout",
     "output_type": "stream",
     "text": [
      "[('good', 45), ('make', 38), ('must', 35), ('murderer', 34), ('great', 30), ('know', 29), ('come', 28), ('may', 28), ('say', 24), ('go', 23)]\n"
     ]
    }
   ],
   "source": [
    "## Level 1\n",
    "## Find the most common word in Macbeth, excluding stop words. Source: http://shakespeare.mit.edu/macbeth/full.html\n",
    "\n",
    "from collections import Counter\n",
    "data = open('macbeth.txt').read()\n",
    "split_it = data.lower().split()\n",
    "stop_words = {'i', 'me', 'my', 'myself', 'we', 'we’', 'us', 'our', 'ours', 'ourselves', 'you', 'you,’', 'your', 'yours', 'yourself', 'yourselves', 'he', 'him', 'his', 'himself', 'she', 'her', 'hers', 'herself', 'it', 'its', 'itself', 'they', 'thy', 'them', 'them’', 'their', 'theirs', 'themselves', 'thou', 'thee', 'what', 'which', 'who', 'whom', 'this', 'that', 'these', 'those', 'am', 'is', 'are', 'was', 'were', 'be', 'been', 'being', 'have', 'has', 'had', 'having', 'hath', 'do', 'does', 'did', 'doing', 'a', 'an', 'the', 'and', 'but', 'if', 'or', 'or’', 'because', 'as', 'until', 'while', 'of', 'at', 'by', 'for', 'with', 'within', 'about', 'against', 'between', 'into', 'through', 'during', 'before', 'after', 'above', 'below', 'to', 'from', 'up', 'upon', 'down', 'in', 'out', 'on', 'off', 'over', 'under', 'again', 'further', 'then', 'once', 'here', 'there', 'when', 'where', 'why', 'how', 'all', 'any', 'both', 'each', 'few', 'more', 'most', 'other', 'some', 'such', 'no', 'nor', 'not', 'only', 'own', 'same', 'so', 'than', 'thane', 'too', 'very', 's', 't', 'can', 'will', 'just', 'don', 'shall', 'should', 'now', 'now’', 'macbeth', 'macduff', 'enter', 'witch', 'first', 'ross', 'banquo', 'malcolm', 'scene', 'lennox', 'second', 'siward', 'duncan', 'sir’', 'ay,'\"i'\", 'him,', 'him.', 'it,', 'come,', \"'tis\", 'me.’', 'lady', \"i'll\", 'exeunt', 'yet', 'would', 'like', 'let'}\n",
    "result = [word for word in split_it if not word in stop_words]\n",
    "c = Counter(result)\n",
    "\n",
    "print(c.most_common(10))\n"
   ]
  },
  {
   "cell_type": "code",
   "execution_count": 3,
   "metadata": {},
   "outputs": [
    {
     "data": {
      "text/plain": [
       "75025"
      ]
     },
     "execution_count": 3,
     "metadata": {},
     "output_type": "execute_result"
    }
   ],
   "source": [
    "## Level 2\n",
    "## Find 25th fibonacci number.\n",
    "\n",
    "def fibonacci_of(n):\n",
    "    if n in {0, 1}:  # Base case\n",
    "        return n\n",
    "    return fibonacci_of(n - 1) + fibonacci_of(n - 2)  # Recursive case\n",
    "\n",
    "fibonacci_of(25)"
   ]
  },
  {
   "cell_type": "code",
   "execution_count": null,
   "metadata": {},
   "outputs": [],
   "source": []
  }
 ],
 "metadata": {
  "kernelspec": {
   "display_name": "Python 3",
   "language": "python",
   "name": "python3"
  },
  "language_info": {
   "codemirror_mode": {
    "name": "ipython",
    "version": 3
   },
   "file_extension": ".py",
   "mimetype": "text/x-python",
   "name": "python",
   "nbconvert_exporter": "python",
   "pygments_lexer": "ipython3",
   "version": "3.6.9"
  }
 },
 "nbformat": 4,
 "nbformat_minor": 2
}
